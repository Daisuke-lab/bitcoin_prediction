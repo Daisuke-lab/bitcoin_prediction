{
 "cells": [
  {
   "cell_type": "code",
   "execution_count": 1,
   "metadata": {},
   "outputs": [],
   "source": [
    "import pandas as pd\n",
    "import numpy as np\n",
    "from sklearn.decomposition import PCA\n",
    "from sklearn import preprocessing\n",
    "import matplotlib.pyplot as plt\n",
    "import matplotlib.ticker as ticker"
   ]
  },
  {
   "cell_type": "code",
   "execution_count": 2,
   "metadata": {},
   "outputs": [],
   "source": [
    "df = pd.read_csv('final_dataset.csv')"
   ]
  },
  {
   "cell_type": "code",
   "execution_count": 8,
   "metadata": {},
   "outputs": [
    {
     "name": "stderr",
     "output_type": "stream",
     "text": [
      "C:\\Users\\daisu\\anaconda3\\lib\\site-packages\\sklearn\\preprocessing\\_data.py:174: UserWarning: Numerical issues were encountered when centering the data and might not be solved. Dataset may contain too large values. You may need to prescale your features.\n",
      "  warnings.warn(\"Numerical issues were encountered \"\n"
     ]
    }
   ],
   "source": [
    "df_y = df[[\"Date\", \"Price\"]]\n",
    "df_x = df.drop(columns=[\"Date\", \"Price\", \"Open\", \"High\", \"Low\"])\n",
    "scaled_data = preprocessing.scale(df_x)"
   ]
  },
  {
   "cell_type": "code",
   "execution_count": 12,
   "metadata": {},
   "outputs": [
    {
     "data": {
      "text/plain": [
       "46"
      ]
     },
     "execution_count": 12,
     "metadata": {},
     "output_type": "execute_result"
    }
   ],
   "source": [
    "len(df_x.columns)"
   ]
  },
  {
   "cell_type": "code",
   "execution_count": 13,
   "metadata": {},
   "outputs": [],
   "source": [
    "pca = PCA()\n",
    "pca.fit(scaled_data)\n",
    "pca_data = pca.transform(scaled_data)"
   ]
  },
  {
   "cell_type": "code",
   "execution_count": 14,
   "metadata": {},
   "outputs": [
    {
     "data": {
      "image/png": "[encoded data removed]",
      "text/plain": [
       "<Figure size 1440x360 with 1 Axes>"
      ]
     },
     "metadata": {
      "needs_background": "light"
     },
     "output_type": "display_data"
    }
   ],
   "source": [
    "per_var = np.round(pca.explained_variance_ratio_*100, decimals=1)\n",
    "labels = [f\"PC{i + 1}\" for i in range(len(per_var))]\n",
    "plt.figure(figsize=(20, 5))\n",
    "plt.bar(x=range(1,len(per_var)+1), height=per_var, tick_label=labels)\n",
    "plt.ylabel('Percentage of Explained Variance')\n",
    "plt.xlabel('Principal Component')\n",
    "plt.title('Scree Plot')\n",
    "plt.show()"
   ]
  },
  {
   "cell_type": "code",
   "execution_count": 17,
   "metadata": {},
   "outputs": [
    {
     "data": {
      "image/png": "[encoded data removed]",
      "text/plain": [
       "<Figure size 432x288 with 1 Axes>"
      ]
     },
     "metadata": {
      "needs_background": "light"
     },
     "output_type": "display_data"
    }
   ],
   "source": [
    "\n",
    "plt.gca().get_xaxis().set_major_locator(ticker.MaxNLocator(integer=True))\n",
    "plt.plot([0] + list( np.cumsum(pca.explained_variance_ratio_)), \"-o\")\n",
    "plt.xlabel(\"Number of principal components\")\n",
    "plt.ylabel(\"Cumulative contribution rate\")\n",
    "plt.grid()\n",
    "plt.savefig('pca_result.png', bbox_inches='tight')\n",
    "plt.show()"
   ]
  },
  {
   "cell_type": "code",
   "execution_count": 33,
   "metadata": {},
   "outputs": [],
   "source": [
    "df = pd.DataFrame(pca_data)"
   ]
  },
  {
   "cell_type": "code",
   "execution_count": 34,
   "metadata": {},
   "outputs": [],
   "source": [
    "for column in df.columns:\n",
    "    if column < 10:\n",
    "        df = df.rename(columns={column:f\"PC{column+1}\"})\n",
    "    else:\n",
    "        df = df.drop(columns=[column])"
   ]
  },
  {
   "cell_type": "code",
   "execution_count": 35,
   "metadata": {},
   "outputs": [],
   "source": [
    "df = pd.concat([df_y, df], axis=1)\n",
    "df.to_csv('pca_data.csv', index=False)"
   ]
  },
  {
   "cell_type": "code",
   "execution_count": 36,
   "metadata": {},
   "outputs": [
    {
     "data": {
      "text/html": [
       "<div>\n",
       "<style scoped>\n",
       "    .dataframe tbody tr th:only-of-type {\n",
       "        vertical-align: middle;\n",
       "    }\n",
       "\n",
       "    .dataframe tbody tr th {\n",
       "        vertical-align: top;\n",
       "    }\n",
       "\n",
       "    .dataframe thead th {\n",
       "        text-align: right;\n",
       "    }\n",
       "</style>\n",
       "<table border=\"1\" class=\"dataframe\">\n",
       "  <thead>\n",
       "    <tr style=\"text-align: right;\">\n",
       "      <th></th>\n",
       "      <th>Date</th>\n",
       "      <th>Price</th>\n",
       "      <th>PC1</th>\n",
       "      <th>PC2</th>\n",
       "      <th>PC3</th>\n",
       "      <th>PC4</th>\n",
       "      <th>PC5</th>\n",
       "      <th>PC6</th>\n",
       "      <th>PC7</th>\n",
       "      <th>PC8</th>\n",
       "      <th>PC9</th>\n",
       "      <th>PC10</th>\n",
       "    </tr>\n",
       "  </thead>\n",
       "  <tbody>\n",
       "    <tr>\n",
       "      <th>0</th>\n",
       "      <td>2019-01-01</td>\n",
       "      <td>3873.8</td>\n",
       "      <td>-5.276724</td>\n",
       "      <td>-3.996305</td>\n",
       "      <td>4.415994</td>\n",
       "      <td>0.782341</td>\n",
       "      <td>0.006974</td>\n",
       "      <td>-1.158301</td>\n",
       "      <td>-0.067363</td>\n",
       "      <td>-0.493529</td>\n",
       "      <td>-0.380081</td>\n",
       "      <td>-0.816549</td>\n",
       "    </tr>\n",
       "    <tr>\n",
       "      <th>1</th>\n",
       "      <td>2019-01-02</td>\n",
       "      <td>3780.1</td>\n",
       "      <td>-5.170930</td>\n",
       "      <td>-1.749534</td>\n",
       "      <td>3.272299</td>\n",
       "      <td>0.231817</td>\n",
       "      <td>0.084481</td>\n",
       "      <td>-0.432730</td>\n",
       "      <td>0.612391</td>\n",
       "      <td>-0.211036</td>\n",
       "      <td>0.306339</td>\n",
       "      <td>-1.013738</td>\n",
       "    </tr>\n",
       "    <tr>\n",
       "      <th>2</th>\n",
       "      <td>2019-01-03</td>\n",
       "      <td>3802.7</td>\n",
       "      <td>-5.209785</td>\n",
       "      <td>-1.169560</td>\n",
       "      <td>2.974107</td>\n",
       "      <td>-0.108983</td>\n",
       "      <td>-0.049247</td>\n",
       "      <td>0.039013</td>\n",
       "      <td>0.528102</td>\n",
       "      <td>-0.261826</td>\n",
       "      <td>0.308010</td>\n",
       "      <td>-1.297063</td>\n",
       "    </tr>\n",
       "    <tr>\n",
       "      <th>3</th>\n",
       "      <td>2019-01-04</td>\n",
       "      <td>3785.4</td>\n",
       "      <td>-5.461036</td>\n",
       "      <td>-1.735294</td>\n",
       "      <td>2.323524</td>\n",
       "      <td>-0.567059</td>\n",
       "      <td>0.263961</td>\n",
       "      <td>0.028043</td>\n",
       "      <td>0.654446</td>\n",
       "      <td>-0.352479</td>\n",
       "      <td>0.583729</td>\n",
       "      <td>-1.297370</td>\n",
       "    </tr>\n",
       "    <tr>\n",
       "      <th>4</th>\n",
       "      <td>2019-01-05</td>\n",
       "      <td>4004.1</td>\n",
       "      <td>-5.670215</td>\n",
       "      <td>-3.597870</td>\n",
       "      <td>2.514400</td>\n",
       "      <td>-0.610786</td>\n",
       "      <td>0.316173</td>\n",
       "      <td>-0.390688</td>\n",
       "      <td>-0.088829</td>\n",
       "      <td>-0.400014</td>\n",
       "      <td>0.398350</td>\n",
       "      <td>-1.270139</td>\n",
       "    </tr>\n",
       "    <tr>\n",
       "      <th>...</th>\n",
       "      <td>...</td>\n",
       "      <td>...</td>\n",
       "      <td>...</td>\n",
       "      <td>...</td>\n",
       "      <td>...</td>\n",
       "      <td>...</td>\n",
       "      <td>...</td>\n",
       "      <td>...</td>\n",
       "      <td>...</td>\n",
       "      <td>...</td>\n",
       "      <td>...</td>\n",
       "      <td>...</td>\n",
       "    </tr>\n",
       "    <tr>\n",
       "      <th>1020</th>\n",
       "      <td>2021-10-17</td>\n",
       "      <td>62056.3</td>\n",
       "      <td>8.247989</td>\n",
       "      <td>-6.235256</td>\n",
       "      <td>-0.467159</td>\n",
       "      <td>-0.015834</td>\n",
       "      <td>-1.848409</td>\n",
       "      <td>0.520881</td>\n",
       "      <td>-0.291738</td>\n",
       "      <td>0.797574</td>\n",
       "      <td>-0.658913</td>\n",
       "      <td>-0.664539</td>\n",
       "    </tr>\n",
       "    <tr>\n",
       "      <th>1021</th>\n",
       "      <td>2021-10-18</td>\n",
       "      <td>64278.5</td>\n",
       "      <td>7.769368</td>\n",
       "      <td>-2.800591</td>\n",
       "      <td>-1.965221</td>\n",
       "      <td>-1.538361</td>\n",
       "      <td>-1.019428</td>\n",
       "      <td>1.423679</td>\n",
       "      <td>1.055461</td>\n",
       "      <td>1.265406</td>\n",
       "      <td>-0.163010</td>\n",
       "      <td>0.122867</td>\n",
       "    </tr>\n",
       "    <tr>\n",
       "      <th>1022</th>\n",
       "      <td>2021-10-19</td>\n",
       "      <td>65979.1</td>\n",
       "      <td>9.114730</td>\n",
       "      <td>-1.343815</td>\n",
       "      <td>-1.896115</td>\n",
       "      <td>-1.721794</td>\n",
       "      <td>-3.317679</td>\n",
       "      <td>3.028115</td>\n",
       "      <td>3.559169</td>\n",
       "      <td>3.329187</td>\n",
       "      <td>0.833770</td>\n",
       "      <td>1.369422</td>\n",
       "    </tr>\n",
       "    <tr>\n",
       "      <th>1023</th>\n",
       "      <td>2021-10-20</td>\n",
       "      <td>62210.2</td>\n",
       "      <td>8.975927</td>\n",
       "      <td>-2.094760</td>\n",
       "      <td>-1.719892</td>\n",
       "      <td>-1.823947</td>\n",
       "      <td>-3.041510</td>\n",
       "      <td>1.546296</td>\n",
       "      <td>1.514364</td>\n",
       "      <td>0.405193</td>\n",
       "      <td>0.770918</td>\n",
       "      <td>0.181783</td>\n",
       "    </tr>\n",
       "    <tr>\n",
       "      <th>1024</th>\n",
       "      <td>2021-10-21</td>\n",
       "      <td>60697.3</td>\n",
       "      <td>9.921635</td>\n",
       "      <td>-1.617694</td>\n",
       "      <td>-0.205104</td>\n",
       "      <td>-1.418701</td>\n",
       "      <td>-0.830756</td>\n",
       "      <td>3.150038</td>\n",
       "      <td>0.674089</td>\n",
       "      <td>1.157297</td>\n",
       "      <td>-0.859862</td>\n",
       "      <td>0.156889</td>\n",
       "    </tr>\n",
       "  </tbody>\n",
       "</table>\n",
       "<p>1025 rows × 12 columns</p>\n",
       "</div>"
      ],
      "text/plain": [
       "            Date    Price       PC1       PC2       PC3       PC4       PC5  \\\n",
       "0     2019-01-01   3873.8 -5.276724 -3.996305  4.415994  0.782341  0.006974   \n",
       "1     2019-01-02   3780.1 -5.170930 -1.749534  3.272299  0.231817  0.084481   \n",
       "2     2019-01-03   3802.7 -5.209785 -1.169560  2.974107 -0.108983 -0.049247   \n",
       "3     2019-01-04   3785.4 -5.461036 -1.735294  2.323524 -0.567059  0.263961   \n",
       "4     2019-01-05   4004.1 -5.670215 -3.597870  2.514400 -0.610786  0.316173   \n",
       "...          ...      ...       ...       ...       ...       ...       ...   \n",
       "1020  2021-10-17  62056.3  8.247989 -6.235256 -0.467159 -0.015834 -1.848409   \n",
       "1021  2021-10-18  64278.5  7.769368 -2.800591 -1.965221 -1.538361 -1.019428   \n",
       "1022  2021-10-19  65979.1  9.114730 -1.343815 -1.896115 -1.721794 -3.317679   \n",
       "1023  2021-10-20  62210.2  8.975927 -2.094760 -1.719892 -1.823947 -3.041510   \n",
       "1024  2021-10-21  60697.3  9.921635 -1.617694 -0.205104 -1.418701 -0.830756   \n",
       "\n",
       "           PC6       PC7       PC8       PC9      PC10  \n",
       "0    -1.158301 -0.067363 -0.493529 -0.380081 -0.816549  \n",
       "1    -0.432730  0.612391 -0.211036  0.306339 -1.013738  \n",
       "2     0.039013  0.528102 -0.261826  0.308010 -1.297063  \n",
       "3     0.028043  0.654446 -0.352479  0.583729 -1.297370  \n",
       "4    -0.390688 -0.088829 -0.400014  0.398350 -1.270139  \n",
       "...        ...       ...       ...       ...       ...  \n",
       "1020  0.520881 -0.291738  0.797574 -0.658913 -0.664539  \n",
       "1021  1.423679  1.055461  1.265406 -0.163010  0.122867  \n",
       "1022  3.028115  3.559169  3.329187  0.833770  1.369422  \n",
       "1023  1.546296  1.514364  0.405193  0.770918  0.181783  \n",
       "1024  3.150038  0.674089  1.157297 -0.859862  0.156889  \n",
       "\n",
       "[1025 rows x 12 columns]"
      ]
     },
     "execution_count": 36,
     "metadata": {},
     "output_type": "execute_result"
    }
   ],
   "source": [
    "df"
   ]
  },
  {
   "cell_type": "code",
   "execution_count": null,
   "metadata": {},
   "outputs": [],
   "source": []
  }
 ],
 "metadata": {
  "kernelspec": {
   "display_name": "Python 3",
   "language": "python",
   "name": "python3"
  },
  "language_info": {
   "codemirror_mode": {
    "name": "ipython",
    "version": 3
   },
   "file_extension": ".py",
   "mimetype": "text/x-python",
   "name": "python",
   "nbconvert_exporter": "python",
   "pygments_lexer": "ipython3",
   "version": "3.8.5"
  }
 },
 "nbformat": 4,
 "nbformat_minor": 4
}
