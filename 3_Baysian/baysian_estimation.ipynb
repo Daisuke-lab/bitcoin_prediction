{
 "cells": [
  {
   "cell_type": "code",
   "execution_count": 59,
   "metadata": {},
   "outputs": [],
   "source": [
    "import numpy as np\n",
    "import matplotlib.pyplot as plt\n",
    "import pandas as pd\n",
    "import seaborn as sns\n",
    "import pymc3 as pm\n",
    "from sklearn.model_selection import train_test_split"
   ]
  },
  {
   "cell_type": "code",
   "execution_count": 54,
   "metadata": {},
   "outputs": [
    {
     "data": {
      "text/html": [
       "<div>\n",
       "<style scoped>\n",
       "    .dataframe tbody tr th:only-of-type {\n",
       "        vertical-align: middle;\n",
       "    }\n",
       "\n",
       "    .dataframe tbody tr th {\n",
       "        vertical-align: top;\n",
       "    }\n",
       "\n",
       "    .dataframe thead th {\n",
       "        text-align: right;\n",
       "    }\n",
       "</style>\n",
       "<table border=\"1\" class=\"dataframe\">\n",
       "  <thead>\n",
       "    <tr style=\"text-align: right;\">\n",
       "      <th></th>\n",
       "      <th>Date</th>\n",
       "      <th>Price</th>\n",
       "      <th>PC1</th>\n",
       "      <th>PC2</th>\n",
       "      <th>PC3</th>\n",
       "      <th>PC4</th>\n",
       "      <th>PC5</th>\n",
       "      <th>PC6</th>\n",
       "      <th>PC7</th>\n",
       "      <th>PC8</th>\n",
       "      <th>PC9</th>\n",
       "      <th>PC10</th>\n",
       "    </tr>\n",
       "  </thead>\n",
       "  <tbody>\n",
       "    <tr>\n",
       "      <th>0</th>\n",
       "      <td>2019-01-01</td>\n",
       "      <td>3873.8</td>\n",
       "      <td>-5.276724</td>\n",
       "      <td>-3.996305</td>\n",
       "      <td>4.415994</td>\n",
       "      <td>0.782341</td>\n",
       "      <td>0.006974</td>\n",
       "      <td>-1.158301</td>\n",
       "      <td>-0.067363</td>\n",
       "      <td>-0.493529</td>\n",
       "      <td>-0.380081</td>\n",
       "      <td>-0.816549</td>\n",
       "    </tr>\n",
       "    <tr>\n",
       "      <th>1</th>\n",
       "      <td>2019-01-02</td>\n",
       "      <td>3780.1</td>\n",
       "      <td>-5.170930</td>\n",
       "      <td>-1.749534</td>\n",
       "      <td>3.272299</td>\n",
       "      <td>0.231817</td>\n",
       "      <td>0.084481</td>\n",
       "      <td>-0.432730</td>\n",
       "      <td>0.612391</td>\n",
       "      <td>-0.211036</td>\n",
       "      <td>0.306339</td>\n",
       "      <td>-1.013738</td>\n",
       "    </tr>\n",
       "    <tr>\n",
       "      <th>2</th>\n",
       "      <td>2019-01-03</td>\n",
       "      <td>3802.7</td>\n",
       "      <td>-5.209785</td>\n",
       "      <td>-1.169560</td>\n",
       "      <td>2.974107</td>\n",
       "      <td>-0.108983</td>\n",
       "      <td>-0.049247</td>\n",
       "      <td>0.039013</td>\n",
       "      <td>0.528102</td>\n",
       "      <td>-0.261826</td>\n",
       "      <td>0.308010</td>\n",
       "      <td>-1.297063</td>\n",
       "    </tr>\n",
       "    <tr>\n",
       "      <th>3</th>\n",
       "      <td>2019-01-04</td>\n",
       "      <td>3785.4</td>\n",
       "      <td>-5.461036</td>\n",
       "      <td>-1.735294</td>\n",
       "      <td>2.323524</td>\n",
       "      <td>-0.567059</td>\n",
       "      <td>0.263961</td>\n",
       "      <td>0.028043</td>\n",
       "      <td>0.654446</td>\n",
       "      <td>-0.352479</td>\n",
       "      <td>0.583729</td>\n",
       "      <td>-1.297370</td>\n",
       "    </tr>\n",
       "    <tr>\n",
       "      <th>4</th>\n",
       "      <td>2019-01-05</td>\n",
       "      <td>4004.1</td>\n",
       "      <td>-5.670215</td>\n",
       "      <td>-3.597870</td>\n",
       "      <td>2.514400</td>\n",
       "      <td>-0.610786</td>\n",
       "      <td>0.316173</td>\n",
       "      <td>-0.390688</td>\n",
       "      <td>-0.088829</td>\n",
       "      <td>-0.400014</td>\n",
       "      <td>0.398350</td>\n",
       "      <td>-1.270139</td>\n",
       "    </tr>\n",
       "  </tbody>\n",
       "</table>\n",
       "</div>"
      ],
      "text/plain": [
       "         Date   Price       PC1       PC2       PC3       PC4       PC5  \\\n",
       "0  2019-01-01  3873.8 -5.276724 -3.996305  4.415994  0.782341  0.006974   \n",
       "1  2019-01-02  3780.1 -5.170930 -1.749534  3.272299  0.231817  0.084481   \n",
       "2  2019-01-03  3802.7 -5.209785 -1.169560  2.974107 -0.108983 -0.049247   \n",
       "3  2019-01-04  3785.4 -5.461036 -1.735294  2.323524 -0.567059  0.263961   \n",
       "4  2019-01-05  4004.1 -5.670215 -3.597870  2.514400 -0.610786  0.316173   \n",
       "\n",
       "        PC6       PC7       PC8       PC9      PC10  \n",
       "0 -1.158301 -0.067363 -0.493529 -0.380081 -0.816549  \n",
       "1 -0.432730  0.612391 -0.211036  0.306339 -1.013738  \n",
       "2  0.039013  0.528102 -0.261826  0.308010 -1.297063  \n",
       "3  0.028043  0.654446 -0.352479  0.583729 -1.297370  \n",
       "4 -0.390688 -0.088829 -0.400014  0.398350 -1.270139  "
      ]
     },
     "execution_count": 54,
     "metadata": {},
     "output_type": "execute_result"
    }
   ],
   "source": [
    "df = pd.read_csv('pca_data.csv')\n",
    "y = df[\"Price\"].values\n",
    "df_x = df.drop(columns=[\"Date\", \"Price\"])\n",
    "df.head()"
   ]
  },
  {
   "cell_type": "code",
   "execution_count": 55,
   "metadata": {},
   "outputs": [],
   "source": [
    "#定数項y切片を追加するために一列追加。\n",
    "X = np.hstack((np.ones((df_x.shape[0], 1)), df_x))\n",
    "\n",
    "\n",
    "n, k = X.shape \n",
    "w0 = np.zeros(k) #係数ベクトルwの初期値\n",
    "A0 = 0.01 * np.eye(k) # 分散共分散行列の逆行列（精度行列）"
   ]
  },
  {
   "cell_type": "code",
   "execution_count": 56,
   "metadata": {},
   "outputs": [
    {
     "name": "stdout",
     "output_type": "stream",
     "text": [
      "(11,)\n",
      "(11, 11)\n",
      "11\n",
      "(1025, 11)\n"
     ]
    }
   ],
   "source": [
    "print(w0.shape)\n",
    "print(A0.shape)\n",
    "print(k)\n",
    "print(X.shape)"
   ]
  },
  {
   "cell_type": "code",
   "execution_count": 57,
   "metadata": {},
   "outputs": [
    {
     "name": "stdout",
     "output_type": "stream",
     "text": [
      "w ~ MvNormal\n"
     ]
    }
   ],
   "source": [
    "# モデルの設定\n",
    "logit_model = pm.Model()\n",
    "with logit_model as model:\n",
    "    # 回帰係数wの事前分布として多変量正規分布を設定\n",
    "    w = pm.MvNormal('w', mu=w0, tau=A0, shape=k)\n",
    "    print(w)\n",
    "    # 線形予測子を内積（説明変数Xと係数w）で表現\n",
    "    y_hat = pm.math.dot(X, w)\n",
    "    # 尤度の算出\n",
    "    ## ロジスティック回帰なので、ベルヌーイ分布を仮定\n",
    "    ## リンク関数としてロジット（logit_p）を指定\n",
    "    likelihood = pm.Bernoulli('y', logit_p=y_hat, observed=y)"
   ]
  },
  {
   "cell_type": "code",
   "execution_count": 58,
   "metadata": {},
   "outputs": [
    {
     "data": {
      "text/latex": [
       "$\\text{y} \\sim \\text{Bernoulli}(\\mathit{p}=f(f(array,~\\text{w})))$"
      ],
      "text/plain": [
       "y ~ Bernoulli"
      ]
     },
     "execution_count": 58,
     "metadata": {},
     "output_type": "execute_result"
    }
   ],
   "source": [
    "likelihood"
   ]
  },
  {
   "cell_type": "code",
   "execution_count": 53,
   "metadata": {},
   "outputs": [
    {
     "data": {
      "text/plain": [
       "array([['2019-01-01', 3873.8],\n",
       "       ['2019-01-02', 3780.1],\n",
       "       ['2019-01-03', 3802.7],\n",
       "       ...,\n",
       "       ['2021-10-19', 65979.1],\n",
       "       ['2021-10-20', 62210.2],\n",
       "       ['2021-10-21', 60697.3]], dtype=object)"
      ]
     },
     "execution_count": 53,
     "metadata": {},
     "output_type": "execute_result"
    }
   ],
   "source": [
    "df_y.values"
   ]
  },
  {
   "cell_type": "code",
   "execution_count": 31,
   "metadata": {},
   "outputs": [
    {
     "data": {
      "text/plain": [
       "(1025, 10)"
      ]
     },
     "execution_count": 31,
     "metadata": {},
     "output_type": "execute_result"
    }
   ],
   "source": []
  },
  {
   "cell_type": "code",
   "execution_count": null,
   "metadata": {},
   "outputs": [],
   "source": []
  }
 ],
 "metadata": {
  "kernelspec": {
   "display_name": "Python 3",
   "language": "python",
   "name": "python3"
  },
  "language_info": {
   "codemirror_mode": {
    "name": "ipython",
    "version": 3
   },
   "file_extension": ".py",
   "mimetype": "text/x-python",
   "name": "python",
   "nbconvert_exporter": "python",
   "pygments_lexer": "ipython3",
   "version": "3.8.5"
  }
 },
 "nbformat": 4,
 "nbformat_minor": 4
}
