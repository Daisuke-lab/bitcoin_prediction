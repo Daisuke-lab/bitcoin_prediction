{
 "cells": [
  {
   "cell_type": "code",
   "execution_count": 45,
   "metadata": {},
   "outputs": [],
   "source": [
    "import pandas as pd\n",
    "import numpy as np\n",
    "from sklearn.model_selection import train_test_split\n",
    "import matplotlib.pyplot as plt\n",
    "#https://qiita.com/holygo/items/e2774a5a891700c3916a"
   ]
  },
  {
   "cell_type": "code",
   "execution_count": 46,
   "metadata": {},
   "outputs": [
    {
     "data": {
      "text/html": [
       "<div>\n",
       "<style scoped>\n",
       "    .dataframe tbody tr th:only-of-type {\n",
       "        vertical-align: middle;\n",
       "    }\n",
       "\n",
       "    .dataframe tbody tr th {\n",
       "        vertical-align: top;\n",
       "    }\n",
       "\n",
       "    .dataframe thead th {\n",
       "        text-align: right;\n",
       "    }\n",
       "</style>\n",
       "<table border=\"1\" class=\"dataframe\">\n",
       "  <thead>\n",
       "    <tr style=\"text-align: right;\">\n",
       "      <th></th>\n",
       "      <th>Date</th>\n",
       "      <th>Price</th>\n",
       "      <th>PC1</th>\n",
       "      <th>PC2</th>\n",
       "      <th>PC3</th>\n",
       "      <th>PC4</th>\n",
       "      <th>PC5</th>\n",
       "      <th>PC6</th>\n",
       "      <th>PC7</th>\n",
       "      <th>PC8</th>\n",
       "      <th>PC9</th>\n",
       "      <th>PC10</th>\n",
       "    </tr>\n",
       "  </thead>\n",
       "  <tbody>\n",
       "    <tr>\n",
       "      <th>0</th>\n",
       "      <td>2019-01-01</td>\n",
       "      <td>3873.8</td>\n",
       "      <td>-5.276724</td>\n",
       "      <td>-3.996305</td>\n",
       "      <td>4.415994</td>\n",
       "      <td>0.782341</td>\n",
       "      <td>0.006974</td>\n",
       "      <td>-1.158301</td>\n",
       "      <td>-0.067363</td>\n",
       "      <td>-0.493529</td>\n",
       "      <td>-0.380081</td>\n",
       "      <td>-0.816549</td>\n",
       "    </tr>\n",
       "    <tr>\n",
       "      <th>1</th>\n",
       "      <td>2019-01-02</td>\n",
       "      <td>3780.1</td>\n",
       "      <td>-5.170930</td>\n",
       "      <td>-1.749534</td>\n",
       "      <td>3.272299</td>\n",
       "      <td>0.231817</td>\n",
       "      <td>0.084481</td>\n",
       "      <td>-0.432730</td>\n",
       "      <td>0.612391</td>\n",
       "      <td>-0.211036</td>\n",
       "      <td>0.306339</td>\n",
       "      <td>-1.013738</td>\n",
       "    </tr>\n",
       "    <tr>\n",
       "      <th>2</th>\n",
       "      <td>2019-01-03</td>\n",
       "      <td>3802.7</td>\n",
       "      <td>-5.209785</td>\n",
       "      <td>-1.169560</td>\n",
       "      <td>2.974107</td>\n",
       "      <td>-0.108983</td>\n",
       "      <td>-0.049247</td>\n",
       "      <td>0.039013</td>\n",
       "      <td>0.528102</td>\n",
       "      <td>-0.261826</td>\n",
       "      <td>0.308010</td>\n",
       "      <td>-1.297063</td>\n",
       "    </tr>\n",
       "    <tr>\n",
       "      <th>3</th>\n",
       "      <td>2019-01-04</td>\n",
       "      <td>3785.4</td>\n",
       "      <td>-5.461036</td>\n",
       "      <td>-1.735294</td>\n",
       "      <td>2.323524</td>\n",
       "      <td>-0.567059</td>\n",
       "      <td>0.263961</td>\n",
       "      <td>0.028043</td>\n",
       "      <td>0.654446</td>\n",
       "      <td>-0.352479</td>\n",
       "      <td>0.583729</td>\n",
       "      <td>-1.297370</td>\n",
       "    </tr>\n",
       "    <tr>\n",
       "      <th>4</th>\n",
       "      <td>2019-01-05</td>\n",
       "      <td>4004.1</td>\n",
       "      <td>-5.670215</td>\n",
       "      <td>-3.597870</td>\n",
       "      <td>2.514400</td>\n",
       "      <td>-0.610786</td>\n",
       "      <td>0.316173</td>\n",
       "      <td>-0.390688</td>\n",
       "      <td>-0.088829</td>\n",
       "      <td>-0.400014</td>\n",
       "      <td>0.398350</td>\n",
       "      <td>-1.270139</td>\n",
       "    </tr>\n",
       "  </tbody>\n",
       "</table>\n",
       "</div>"
      ],
      "text/plain": [
       "         Date   Price       PC1       PC2       PC3       PC4       PC5  \\\n",
       "0  2019-01-01  3873.8 -5.276724 -3.996305  4.415994  0.782341  0.006974   \n",
       "1  2019-01-02  3780.1 -5.170930 -1.749534  3.272299  0.231817  0.084481   \n",
       "2  2019-01-03  3802.7 -5.209785 -1.169560  2.974107 -0.108983 -0.049247   \n",
       "3  2019-01-04  3785.4 -5.461036 -1.735294  2.323524 -0.567059  0.263961   \n",
       "4  2019-01-05  4004.1 -5.670215 -3.597870  2.514400 -0.610786  0.316173   \n",
       "\n",
       "        PC6       PC7       PC8       PC9      PC10  \n",
       "0 -1.158301 -0.067363 -0.493529 -0.380081 -0.816549  \n",
       "1 -0.432730  0.612391 -0.211036  0.306339 -1.013738  \n",
       "2  0.039013  0.528102 -0.261826  0.308010 -1.297063  \n",
       "3  0.028043  0.654446 -0.352479  0.583729 -1.297370  \n",
       "4 -0.390688 -0.088829 -0.400014  0.398350 -1.270139  "
      ]
     },
     "execution_count": 46,
     "metadata": {},
     "output_type": "execute_result"
    }
   ],
   "source": [
    "df = pd.read_csv('pca_data.csv')\n",
    "y = df[\"Price\"].values\n",
    "df_x = df.drop(columns=[\"Date\", \"Price\"])\n",
    "df.head()"
   ]
  },
  {
   "cell_type": "code",
   "execution_count": 47,
   "metadata": {},
   "outputs": [],
   "source": [
    "a_train, a_test = train_test_split(df, test_size=0.6)"
   ]
  },
  {
   "cell_type": "code",
   "execution_count": 48,
   "metadata": {},
   "outputs": [],
   "source": [
    "class MaximumLikelihoodEstimation():\n",
    "    def __init__(self):\n",
    "        self.df = pd.read_csv('pca_data.csv')\n",
    "        train, test = train_test_split(self.df, test_size=0.3)\n",
    "        self.train_y = train[\"Price\"].values\n",
    "        self.test_y = test[\"Price\"].values\n",
    "        self.date = test[\"Date\"]\n",
    "        self.train_x = np.array(train.drop(columns=[\"Date\", \"Price\"]))\n",
    "        self.test_x = np.array(test.drop(columns=[\"Date\", \"Price\"]))\n",
    "        \n",
    "    def calculate_optimal_w(self, x, y):\n",
    "        #np.linalg.inv = get inverse matrix\n",
    "        self.w = np.dot(np.dot(np.linalg.inv(np.dot(x.T, x)), x.T), y)\n",
    "        \n",
    "    \n",
    "    def predict_y(self, x):\n",
    "        y_hat = np.dot(self.w.T, x.T).ravel()\n",
    "        return y_hat\n",
    "    \n",
    "    def get_var(self, y, y_hat):\n",
    "        np.sum(np.square(y-y_hat)) / len(y)\n",
    "    \n",
    "        \n",
    "    def display_graph(self, y_hat):\n",
    "        fig, ax = plt.subplots(1,2,figsize=(12,4))\n",
    "        ax[0].scatter(self.date, self.test_y, label='train_data',color='b')\n",
    "        ax[1].plot(self.date, y_hat,label='predict curve',color='r')\n",
    "        plt.show()\n",
    "                      \n",
    "    def main(self):\n",
    "        self.calculate_optimal_w(self.train_x, self.train_y)\n",
    "        y_hat = self.predict_y(self.test_x)\n",
    "        print(y_hat.shape)\n",
    "        print(self.test_y.shape)\n",
    "        var = self.get_var(self.test_y, y_hat)\n",
    "        self.display_graph(y_hat)\n",
    "        \n",
    "               \n",
    "        "
   ]
  },
  {
   "cell_type": "code",
   "execution_count": 49,
   "metadata": {},
   "outputs": [
    {
     "name": "stdout",
     "output_type": "stream",
     "text": [
      "(308,)\n",
      "(308,)\n"
     ]
    },
    {
     "data": {
      "image/png": "[encoded data removed]",
      "text/plain": [
       "<Figure size 864x288 with 2 Axes>"
      ]
     },
     "metadata": {
      "needs_background": "light"
     },
     "output_type": "display_data"
    }
   ],
   "source": [
    "maximum_likelihood_estimation = MaximumLikelihoodEstimation()\n",
    "maximum_likelihood_estimation.main()"
   ]
  },
  {
   "cell_type": "code",
   "execution_count": 37,
   "metadata": {},
   "outputs": [
    {
     "data": {
      "text/plain": [
       "array([ 3406.85808031, -1642.20816788, -1050.65041973, -1608.6816815 ,\n",
       "       -1780.33777651,   432.5875876 ,   898.5974643 ,   251.94667266,\n",
       "       -1357.21882855,   281.44736186])"
      ]
     },
     "execution_count": 37,
     "metadata": {},
     "output_type": "execute_result"
    }
   ],
   "source": [
    "maximum_likelihood_estimation."
   ]
  },
  {
   "cell_type": "code",
   "execution_count": null,
   "metadata": {},
   "outputs": [],
   "source": []
  }
 ],
 "metadata": {
  "kernelspec": {
   "display_name": "Python 3",
   "language": "python",
   "name": "python3"
  },
  "language_info": {
   "codemirror_mode": {
    "name": "ipython",
    "version": 3
   },
   "file_extension": ".py",
   "mimetype": "text/x-python",
   "name": "python",
   "nbconvert_exporter": "python",
   "pygments_lexer": "ipython3",
   "version": "3.8.5"
  }
 },
 "nbformat": 4,
 "nbformat_minor": 4
}
